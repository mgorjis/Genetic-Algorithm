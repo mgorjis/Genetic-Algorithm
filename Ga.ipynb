{
 "cells": [
  {
   "cell_type": "code",
   "execution_count": 232,
   "metadata": {
    "collapsed": false
   },
   "outputs": [
    {
     "name": "stdout",
     "output_type": "stream",
     "text": [
      "Once deleted, variables cannot be recovered. Proceed (y/[n])? y\n"
     ]
    }
   ],
   "source": [
    "%reset"
   ]
  },
  {
   "cell_type": "code",
   "execution_count": 233,
   "metadata": {
    "collapsed": false
   },
   "outputs": [],
   "source": [
    "class Individual(object):\n",
    "    \n",
    "    def __init__(self,Chromosome=0,Fitness=0):\n",
    "        self.Chromosome=Chromosome\n",
    "        self.Fitness=Fitness\n",
    "    \n",
    "    def Create(self,dim,R):   # create chromosome of dim elements in the range of a and b\n",
    "        self.Chromosome=np.empty([1,dim])\n",
    "        for i in range(0,dim):\n",
    "            self.Chromosome[0,i]=(R[i,1]-R[i,0])*np.random.rand()+R[i,0]\n",
    "    \n",
    "    def Crossover(self,other):\n",
    "        child1=Individual()\n",
    "        child2=Individual()\n",
    "        alpha=np.random.rand()\n",
    "        child1.Chromosome=(alpha)*(self.Chromosome)+(1-alpha)*(other.Chromosome)\n",
    "        child2.Chromosome=(1-alpha)*(self.Chromosome)+(alpha)*(other.Chromosome)\n",
    "        return child1, child2\n",
    "        \n",
    "    \n",
    "    def Mutation(self,R):\n",
    "        mutant=self\n",
    "        d=random.randint(0,dim-1)\n",
    "        #d=np.random.random_integers(0,dim-1)  #dim_of_mutation=\n",
    "        mut_range=0.1*(R[d,1]-R[d,0])\n",
    "        self.Chromosome[0,d]= self.Chromosome[0,d]+mut_range*(np.random.rand()-0.5)\n",
    "        return mutant      \n",
    "    \n",
    "    def __str__(self):\n",
    "        return str((self.Chromosome,self.Fitness))\n",
    "    \n",
    "def FunctionEvaluation(f,ListOfVars,ListOfVals):\n",
    "        Dim=len(ListOfVars)\n",
    "        for i in range(0,Dim):\n",
    "            f=f.subs({ListOfVars[i]:ListOfVals[i]})\n",
    "        return f\n",
    "    "
   ]
  },
  {
   "cell_type": "code",
   "execution_count": 240,
   "metadata": {
    "collapsed": false
   },
   "outputs": [],
   "source": [
    "import numpy as np\n",
    "import sympy\n",
    "import random\n",
    "\n",
    "#s = str('x1**2+sin(x2)')\n",
    "#ListOfVars=['x1','x2']\n",
    "#f = sympy.sympify(s)\n",
    "Function='x1^2*sin(x2)+cos(x3)'\n",
    "ListOfVars=['x1','x2','x3']\n",
    "R=np.array([[1,5],[0,1],[0,2]])\n",
    "NumGen=5000\n",
    "PopSize=100\n"
   ]
  },
  {
   "cell_type": "code",
   "execution_count": 241,
   "metadata": {
    "collapsed": false
   },
   "outputs": [],
   "source": [
    "s=str(Function)\n",
    "f=sympy.sympify(s)\n",
    "dim=len(ListOfVars)\n",
    "\n",
    "Population=[]\n",
    "\n",
    "Fitness=np.empty(shape=[1, PopSize]) \n",
    "MinFit=np.empty(shape=[1, NumGen])\n",
    "MaxFit=np.empty(shape=[1, NumGen])\n",
    "AverageFit=np.empty(shape=[1, NumGen])\n",
    "    \n",
    "for i in range(0,PopSize):\n",
    "    p=Individual()\n",
    "    p.Create(dim,R)\n",
    "    Population.append(p)  #.Chromosome\n",
    "\n",
    "    ListofVals=p.Chromosome[0]\n",
    "    Fitness[0,i]=FunctionEvaluation(f,ListOfVars,np.ndarray.tolist(ListofVals))\n",
    "    \n",
    "for n in range(0,NumGen):\n",
    "    \n",
    "    index1=random.randint(0,PopSize-1)\n",
    "    index2=random.randint(0,PopSize-1)\n",
    "       \n",
    "    parent1=Population[index1]\n",
    "    parent2=Population[index2]\n",
    "    \n",
    "    child1, child2 = parent1.Crossover(parent2)\n",
    "    \n",
    "    child1=child1.Mutation(R)\n",
    "    child2=child2.Mutation(R)\n",
    "\n",
    "    \n",
    "    ListofVals=child1.Chromosome[0]\n",
    "    fitness_Child1=FunctionEvaluation(f,ListOfVars,np.ndarray.tolist(ListofVals))\n",
    "    ListofVals=child2.Chromosome[0]\n",
    "    fitness_Child2=FunctionEvaluation(f,ListOfVars,np.ndarray.tolist(ListofVals))\n",
    "    \n",
    "    \n",
    "    # Replace worse\n",
    "    index_worst=np.argsort(-Fitness)[0,0:2]\n",
    "    \n",
    "    Population[index_worst[0]].Chromosome=child1.Chromosome\n",
    "    Fitness[0,index_worst[0]]=fitness_Child1\n",
    "    Population[index_worst[1]].Chromosome=child2.Chromosome\n",
    "    Fitness[0,index_worst[1]]=fitness_Child1\n",
    "    \n",
    "    MinFit[0,n]=np.min(Fitness)\n",
    "    MaxFit[0,n]=np.max(Fitness)\n",
    "    AverageFit[0,n]=np.average(Fitness)"
   ]
  },
  {
   "cell_type": "code",
   "execution_count": 242,
   "metadata": {
    "collapsed": false
   },
   "outputs": [
    {
     "name": "stdout",
     "output_type": "stream",
     "text": [
      "The minimim of function   x1**2*sin(x2) + cos(x3)  is  -13.1318307125 occured in   [4.490944536146282, -0.6535546441429341, 2.624141536811048]\n"
     ]
    },
    {
     "data": {
      "image/png": "[encoded data removed]",
      "text/plain": [
       "<matplotlib.figure.Figure at 0x110300208>"
      ]
     },
     "metadata": {},
     "output_type": "display_data"
    }
   ],
   "source": [
    "import matplotlib.pyplot as plt\n",
    "%matplotlib inline\n",
    "\n",
    "t = np.arange(0.0, NumGen, 1)\n",
    "\n",
    "plt.plot(t,MinFit[0,:])\n",
    "plt.plot(t,MaxFit[0,:])\n",
    "plt.plot(t,AverageFit[0,:])\n",
    "\n",
    "a=np.min(Fitness)\n",
    "b=np.ndarray.tolist(Population[np.argmin(Fitness)].Chromosome[0])\n",
    "\n",
    "print(\"The minimim of function  \", f, ' is ', a, 'occured in  ', b)"
   ]
  },
  {
   "cell_type": "code",
   "execution_count": null,
   "metadata": {
    "collapsed": true
   },
   "outputs": [],
   "source": []
  }
 ],
 "metadata": {
  "kernelspec": {
   "display_name": "Python 3",
   "language": "python",
   "name": "python3"
  },
  "language_info": {
   "codemirror_mode": {
    "name": "ipython",
    "version": 3
   },
   "file_extension": ".py",
   "mimetype": "text/x-python",
   "name": "python",
   "nbconvert_exporter": "python",
   "pygments_lexer": "ipython3",
   "version": "3.5.1"
  },
  "latex_envs": {
   "bibliofile": "biblio.bib",
   "cite_by": "apalike",
   "current_citInitial": 1,
   "eqLabelWithNumbers": true,
   "eqNumInitial": 0
  }
 },
 "nbformat": 4,
 "nbformat_minor": 0
}
