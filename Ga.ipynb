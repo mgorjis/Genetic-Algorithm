{
 "cells": [
  {
   "cell_type": "code",
   "execution_count": 599,
   "metadata": {
    "collapsed": false
   },
   "outputs": [],
   "source": [
    "class Individual(object,):\n",
    "    \n",
    "    def __init__(self,Chromosome=0,Fitness=0):\n",
    "        self.Chromosome=Chromosome\n",
    "        self.Fitness=Fitness\n",
    "    \n",
    "    def Create(self,dim,R):   # create chromosome of dim elements in the range of a and b\n",
    "        self.Chromosome=np.empty([1,dim])\n",
    "        for i in range(0,dim):\n",
    "            self.Chromosome[0,i]=(R[i,1]-R[i,0])*np.random.rand()+R[i,0]\n",
    "    \n",
    "    def Crossover(self,other):\n",
    "        child1=Individual()\n",
    "        child2=Individual()\n",
    "        alpha=np.random.rand()\n",
    "        child1.Chromosome=(alpha)*(self.Chromosome)+(1-alpha)*(other.Chromosome)\n",
    "        child2.Chromosome=(1-alpha)*(self.Chromosome)+(alpha)*(other.Chromosome)\n",
    "        return child1, child2\n",
    "        \n",
    "    \n",
    "    def Mutation(self,R):\n",
    "        mutant=self\n",
    "        d=np.random.random_integers(0,dim-1)  #dim_of_mutation=\n",
    "        mut_range=0.1*(R[d,1]-R[d,0])\n",
    "        self.Chromosome[0,d]= self.Chromosome[0,d]+mut_range*(np.random.rand()-0.5)\n",
    "        return mutant\n",
    "        \n",
    "    \n",
    "    def __str__(self):\n",
    "        return str((self.Chromosome,self.Fitness))\n",
    "    "
   ]
  },
  {
   "cell_type": "code",
   "execution_count": 630,
   "metadata": {
    "collapsed": false
   },
   "outputs": [],
   "source": [
    "s = str('x1**2+sin(x2)')\n",
    "f = sympy.sympify(s)\n",
    "R=np.array([[-5,5],[-6,6]])\n",
    "\n",
    "NumGen=1000\n",
    "PopSize=100"
   ]
  },
  {
   "cell_type": "code",
   "execution_count": 631,
   "metadata": {
    "collapsed": false
   },
   "outputs": [],
   "source": [
    "Population=[]\n",
    "#Fitness=[]\n",
    "\n",
    "Fitness=np.empty(shape=[1, PopSize]) \n",
    "MinFit=np.empty(shape=[1, NumGen])\n",
    "MaxFit=np.empty(shape=[1, NumGen])\n",
    "AverageFit=np.empty(shape=[1, NumGen])\n",
    "    \n",
    "for i in range(0,PopSize):\n",
    "    p=Individual()\n",
    "    p.Create(dim,R)\n",
    "    Population.append(p)  #.Chromosome\n",
    "    #Fitness.append(f.evalf(subs={'x1':p.Chromosome[0,0], 'x2':p.Chromosome[0,1]}))\n",
    "    #np.concatenate(Fitness,f.evalf(subs={'x1':p.Chromosome[0,0], 'x2':p.Chromosome[0,1]}))\n",
    "    Fitness[0,i]=f.evalf(subs={'x1':p.Chromosome[0,0], 'x2':p.Chromosome[0,1]})\n",
    "    \n",
    "for n in range(0,NumGen):\n",
    "    index1=np.random.random_integers(0,PopSize-1)\n",
    "    index2=np.random.random_integers(0,PopSize-1)\n",
    "       \n",
    "    parent1=Population[index1]\n",
    "    parent2=Population[index2]\n",
    "    \n",
    "    #print(parent1)\n",
    "    #print(parent2)\n",
    "    \n",
    "    child1, child2 = parent1.Crossover(parent2)\n",
    "    \n",
    "    #print(child1)\n",
    "    #print(child2)\n",
    "    \n",
    "    child1=child1.Mutation(R)\n",
    "    child2=child2.Mutation(R)\n",
    "    \n",
    "    #print(child1)\n",
    "    #print(child2)\n",
    "    \n",
    "    fitness_Child1=f.evalf(subs={'x1':child1.Chromosome[0,0], 'x2':child1.Chromosome[0,1]})\n",
    "    fitness_Child2=f.evalf(subs={'x1':child2.Chromosome[0,0], 'x2':child2.Chromosome[0,1]})\n",
    "    \n",
    "    #print(fitness_Child1)\n",
    "    #print(fitness_Child2)\n",
    "    \n",
    "    \n",
    "    # Replace worse\n",
    "    index_worst=np.argsort(-Fitness)[0,0:2]\n",
    "    \n",
    "    Population[index_worst[0]].Chromosome=child1.Chromosome\n",
    "    Fitness[0,index_worst[0]]=fitness_Child1\n",
    "    Population[index_worst[1]].Chromosome=child2.Chromosome\n",
    "    Fitness[0,index_worst[1]]=fitness_Child1\n",
    "    \n",
    "    MinFit[0,n]=np.min(Fitness)\n",
    "    MaxFit[0,n]=np.max(Fitness)\n",
    "    AverageFit[0,n]=np.average(Fitness)"
   ]
  },
  {
   "cell_type": "code",
   "execution_count": 632,
   "metadata": {
    "collapsed": false
   },
   "outputs": [
    {
     "data": {
      "text/plain": [
       "[<matplotlib.lines.Line2D at 0x1d7c4d53860>]"
      ]
     },
     "execution_count": 632,
     "metadata": {},
     "output_type": "execute_result"
    },
    {
     "data": {
      "image/png": "[encoded data removed]",
      "text/plain": [
       "<matplotlib.figure.Figure at 0x1d7c4f76748>"
      ]
     },
     "metadata": {},
     "output_type": "display_data"
    }
   ],
   "source": [
    "import matplotlib.pyplot as plt\n",
    "%matplotlib inline\n",
    "\n",
    "t = np.arange(0.0, NumGen, 1)\n",
    "\n",
    "plt.plot(t,MinFit[0,:])\n",
    "plt.plot(t,MaxFit[0,:])\n",
    "plt.plot(t,AverageFit[0,:])"
   ]
  },
  {
   "cell_type": "code",
   "execution_count": 633,
   "metadata": {
    "collapsed": false
   },
   "outputs": [
    {
     "data": {
      "text/plain": [
       "-0.99998474032788387"
      ]
     },
     "execution_count": 633,
     "metadata": {},
     "output_type": "execute_result"
    }
   ],
   "source": [
    "np.min(Fitness)"
   ]
  },
  {
   "cell_type": "code",
   "execution_count": 612,
   "metadata": {
    "collapsed": false
   },
   "outputs": [
    {
     "ename": "ValueError",
     "evalue": "Unknown projection '3d'",
     "output_type": "error",
     "traceback": [
      "\u001b[1;31m---------------------------------------------------------------------------\u001b[0m",
      "\u001b[1;31mKeyError\u001b[0m                                  Traceback (most recent call last)",
      "\u001b[1;32mD:\\Program Files\\Anaconda3\\lib\\site-packages\\matplotlib\\projections\\__init__.py\u001b[0m in \u001b[0;36mget_projection_class\u001b[1;34m(projection)\u001b[0m\n\u001b[0;32m     64\u001b[0m     \u001b[1;32mtry\u001b[0m\u001b[1;33m:\u001b[0m\u001b[1;33m\u001b[0m\u001b[0m\n\u001b[1;32m---> 65\u001b[1;33m         \u001b[1;32mreturn\u001b[0m \u001b[0mprojection_registry\u001b[0m\u001b[1;33m.\u001b[0m\u001b[0mget_projection_class\u001b[0m\u001b[1;33m(\u001b[0m\u001b[0mprojection\u001b[0m\u001b[1;33m)\u001b[0m\u001b[1;33m\u001b[0m\u001b[0m\n\u001b[0m\u001b[0;32m     66\u001b[0m     \u001b[1;32mexcept\u001b[0m \u001b[0mKeyError\u001b[0m\u001b[1;33m:\u001b[0m\u001b[1;33m\u001b[0m\u001b[0m\n",
      "\u001b[1;32mD:\\Program Files\\Anaconda3\\lib\\site-packages\\matplotlib\\projections\\__init__.py\u001b[0m in \u001b[0;36mget_projection_class\u001b[1;34m(self, name)\u001b[0m\n\u001b[0;32m     28\u001b[0m         \"\"\"\n\u001b[1;32m---> 29\u001b[1;33m         \u001b[1;32mreturn\u001b[0m \u001b[0mself\u001b[0m\u001b[1;33m.\u001b[0m\u001b[0m_all_projection_types\u001b[0m\u001b[1;33m[\u001b[0m\u001b[0mname\u001b[0m\u001b[1;33m]\u001b[0m\u001b[1;33m\u001b[0m\u001b[0m\n\u001b[0m\u001b[0;32m     30\u001b[0m \u001b[1;33m\u001b[0m\u001b[0m\n",
      "\u001b[1;31mKeyError\u001b[0m: '3d'",
      "\nDuring handling of the above exception, another exception occurred:\n",
      "\u001b[1;31mValueError\u001b[0m                                Traceback (most recent call last)",
      "\u001b[1;32m<ipython-input-612-0a179bee569d>\u001b[0m in \u001b[0;36m<module>\u001b[1;34m()\u001b[0m\n\u001b[0;32m      2\u001b[0m \u001b[1;33m\u001b[0m\u001b[0m\n\u001b[0;32m      3\u001b[0m \u001b[0mfig\u001b[0m \u001b[1;33m=\u001b[0m \u001b[0mfigure\u001b[0m\u001b[1;33m.\u001b[0m\u001b[0mFigure\u001b[0m\u001b[1;33m(\u001b[0m\u001b[0mfigsize\u001b[0m\u001b[1;33m=\u001b[0m\u001b[1;33m(\u001b[0m\u001b[1;36m7\u001b[0m\u001b[1;33m,\u001b[0m\u001b[1;36m7\u001b[0m\u001b[1;33m)\u001b[0m\u001b[1;33m)\u001b[0m\u001b[1;33m\u001b[0m\u001b[0m\n\u001b[1;32m----> 4\u001b[1;33m \u001b[0max\u001b[0m \u001b[1;33m=\u001b[0m \u001b[0mfig\u001b[0m\u001b[1;33m.\u001b[0m\u001b[0madd_subplot\u001b[0m\u001b[1;33m(\u001b[0m\u001b[1;36m111\u001b[0m\u001b[1;33m,\u001b[0m \u001b[0mprojection\u001b[0m\u001b[1;33m=\u001b[0m\u001b[1;34m'3d'\u001b[0m\u001b[1;33m)\u001b[0m\u001b[1;33m\u001b[0m\u001b[0m\n\u001b[0m\u001b[0;32m      5\u001b[0m \u001b[1;33m\u001b[0m\u001b[0m\n\u001b[0;32m      6\u001b[0m \u001b[1;33m\u001b[0m\u001b[0m\n",
      "\u001b[1;32mD:\\Program Files\\Anaconda3\\lib\\site-packages\\matplotlib\\figure.py\u001b[0m in \u001b[0;36madd_subplot\u001b[1;34m(self, *args, **kwargs)\u001b[0m\n\u001b[0;32m    985\u001b[0m         \u001b[1;32melse\u001b[0m\u001b[1;33m:\u001b[0m\u001b[1;33m\u001b[0m\u001b[0m\n\u001b[0;32m    986\u001b[0m             projection_class, kwargs, key = process_projection_requirements(\n\u001b[1;32m--> 987\u001b[1;33m                 self, *args, **kwargs)\n\u001b[0m\u001b[0;32m    988\u001b[0m \u001b[1;33m\u001b[0m\u001b[0m\n\u001b[0;32m    989\u001b[0m             \u001b[1;31m# try to find the axes with this key in the stack\u001b[0m\u001b[1;33m\u001b[0m\u001b[1;33m\u001b[0m\u001b[0m\n",
      "\u001b[1;32mD:\\Program Files\\Anaconda3\\lib\\site-packages\\matplotlib\\projections\\__init__.py\u001b[0m in \u001b[0;36mprocess_projection_requirements\u001b[1;34m(figure, *args, **kwargs)\u001b[0m\n\u001b[0;32m     96\u001b[0m \u001b[1;33m\u001b[0m\u001b[0m\n\u001b[0;32m     97\u001b[0m     \u001b[1;32mif\u001b[0m \u001b[0misinstance\u001b[0m\u001b[1;33m(\u001b[0m\u001b[0mprojection\u001b[0m\u001b[1;33m,\u001b[0m \u001b[0msix\u001b[0m\u001b[1;33m.\u001b[0m\u001b[0mstring_types\u001b[0m\u001b[1;33m)\u001b[0m \u001b[1;32mor\u001b[0m \u001b[0mprojection\u001b[0m \u001b[1;32mis\u001b[0m \u001b[1;32mNone\u001b[0m\u001b[1;33m:\u001b[0m\u001b[1;33m\u001b[0m\u001b[0m\n\u001b[1;32m---> 98\u001b[1;33m         \u001b[0mprojection_class\u001b[0m \u001b[1;33m=\u001b[0m \u001b[0mget_projection_class\u001b[0m\u001b[1;33m(\u001b[0m\u001b[0mprojection\u001b[0m\u001b[1;33m)\u001b[0m\u001b[1;33m\u001b[0m\u001b[0m\n\u001b[0m\u001b[0;32m     99\u001b[0m     \u001b[1;32melif\u001b[0m \u001b[0mhasattr\u001b[0m\u001b[1;33m(\u001b[0m\u001b[0mprojection\u001b[0m\u001b[1;33m,\u001b[0m \u001b[1;34m'_as_mpl_axes'\u001b[0m\u001b[1;33m)\u001b[0m\u001b[1;33m:\u001b[0m\u001b[1;33m\u001b[0m\u001b[0m\n\u001b[0;32m    100\u001b[0m         \u001b[0mprojection_class\u001b[0m\u001b[1;33m,\u001b[0m \u001b[0mextra_kwargs\u001b[0m \u001b[1;33m=\u001b[0m \u001b[0mprojection\u001b[0m\u001b[1;33m.\u001b[0m\u001b[0m_as_mpl_axes\u001b[0m\u001b[1;33m(\u001b[0m\u001b[1;33m)\u001b[0m\u001b[1;33m\u001b[0m\u001b[0m\n",
      "\u001b[1;32mD:\\Program Files\\Anaconda3\\lib\\site-packages\\matplotlib\\projections\\__init__.py\u001b[0m in \u001b[0;36mget_projection_class\u001b[1;34m(projection)\u001b[0m\n\u001b[0;32m     65\u001b[0m         \u001b[1;32mreturn\u001b[0m \u001b[0mprojection_registry\u001b[0m\u001b[1;33m.\u001b[0m\u001b[0mget_projection_class\u001b[0m\u001b[1;33m(\u001b[0m\u001b[0mprojection\u001b[0m\u001b[1;33m)\u001b[0m\u001b[1;33m\u001b[0m\u001b[0m\n\u001b[0;32m     66\u001b[0m     \u001b[1;32mexcept\u001b[0m \u001b[0mKeyError\u001b[0m\u001b[1;33m:\u001b[0m\u001b[1;33m\u001b[0m\u001b[0m\n\u001b[1;32m---> 67\u001b[1;33m         \u001b[1;32mraise\u001b[0m \u001b[0mValueError\u001b[0m\u001b[1;33m(\u001b[0m\u001b[1;34m\"Unknown projection '%s'\"\u001b[0m \u001b[1;33m%\u001b[0m \u001b[0mprojection\u001b[0m\u001b[1;33m)\u001b[0m\u001b[1;33m\u001b[0m\u001b[0m\n\u001b[0m\u001b[0;32m     68\u001b[0m \u001b[1;33m\u001b[0m\u001b[0m\n\u001b[0;32m     69\u001b[0m \u001b[1;33m\u001b[0m\u001b[0m\n",
      "\u001b[1;31mValueError\u001b[0m: Unknown projection '3d'"
     ]
    }
   ],
   "source": [
    "\n",
    "import matplotlib as plt\n",
    "%matplotlib inline\n",
    "from matplotlib import figure\n",
    "\n",
    "fig = figure.Figure(figsize=(7,7))\n",
    "ax = fig.add_subplot(111, projection='3d')\n",
    "\n",
    "\n",
    "x=np.arange(R[0,0], R[0,1] ,0.05)\n",
    "y = np.arange(R[1,0], R[1,1], 0.05)\n",
    "X, Y = np.meshgrid(x, y)\n",
    "zs = np.array([x**2+np.sin(y) for x,y in zip(np.ravel(X), np.ravel(Y))])\n",
    "Z = zs.reshape(X.shape)\n",
    "ax.plot_surface(X, Y, Z)\n",
    "ax.set_xlabel('X Label')\n",
    "ax.set_ylabel('Y Label')\n",
    "ax.set_zlabel('Z Label')\n",
    "\n",
    "plt.show()"
   ]
  },
  {
   "cell_type": "code",
   "execution_count": null,
   "metadata": {
    "collapsed": true
   },
   "outputs": [],
   "source": []
  }
 ],
 "metadata": {
  "kernelspec": {
   "display_name": "Python 3",
   "language": "python",
   "name": "python3"
  },
  "language_info": {
   "codemirror_mode": {
    "name": "ipython",
    "version": 3
   },
   "file_extension": ".py",
   "mimetype": "text/x-python",
   "name": "python",
   "nbconvert_exporter": "python",
   "pygments_lexer": "ipython3",
   "version": "3.5.1"
  },
  "latex_envs": {
   "bibliofile": "biblio.bib",
   "cite_by": "apalike",
   "current_citInitial": 1,
   "eqLabelWithNumbers": true,
   "eqNumInitial": 0
  }
 },
 "nbformat": 4,
 "nbformat_minor": 0
}
