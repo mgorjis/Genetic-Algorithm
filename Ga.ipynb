{
 "cells": [
  {
   "cell_type": "code",
   "execution_count": null,
   "metadata": {
    "collapsed": false
   },
   "outputs": [],
   "source": [
    "%reset"
   ]
  },
  {
   "cell_type": "code",
   "execution_count": null,
   "metadata": {
    "collapsed": false
   },
   "outputs": [],
   "source": [
    "class Individual(object):\n",
    "    \n",
    "    \n",
    "    def __init__(self,Chromosome=0,Fitness=0):\n",
    "        self.Chromosome=Chromosome\n",
    "        self.Fitness=Fitness\n",
    "    \n",
    "    def Create(self,dim,R):   # create chromosome of dim elements in the range of a and b\n",
    "        import numpy as np\n",
    "        self.Chromosome=np.empty([1,dim])\n",
    "        for i in range(0,dim):\n",
    "            self.Chromosome[0,i]=(R[i,1]-R[i,0])*np.random.rand()+R[i,0]\n",
    "    \n",
    "    def Crossover(self,other):\n",
    "        import numpy as np\n",
    "        child1=Individual()\n",
    "        child2=Individual()\n",
    "        alpha=np.random.rand()\n",
    "        child1.Chromosome=(alpha)*(self.Chromosome)+(1-alpha)*(other.Chromosome)\n",
    "        child2.Chromosome=(1-alpha)*(self.Chromosome)+(alpha)*(other.Chromosome)\n",
    "        return child1, child2\n",
    "        \n",
    "    \n",
    "    def Mutation(self,R,dim):\n",
    "        import numpy as np\n",
    "        import random\n",
    "        \n",
    "        mutant=self\n",
    "        d=random.randint(0,dim-1)\n",
    "        #d=np.random.random_integers(0,dim-1)  #dim_of_mutation=\n",
    "        mut_range=0.1*(R[d,1]-R[d,0])\n",
    "        self.Chromosome[0,d]= max(R[d,0]  , min (R[d,1], self.Chromosome[0,d]+mut_range*(np.random.rand()-0.5) )  )\n",
    "        return self \n",
    "    \n",
    "    def Dissimilarity(self,other):\n",
    "        import numpy as np\n",
    "        return np.linalg.norm(self.Chromosome-other.Chromosome)\n",
    "        \n",
    "        \n",
    "    def contribution_diversity(self,index_cmin,Population,PopSize,case):\n",
    "        import numpy as np\n",
    "        \n",
    "        if case==\"Regualr\":\n",
    "            cd=np.empty(shape=[1, PopSize]) \n",
    "            for i in range(0,PopSize):#1\n",
    "                #print(i)\n",
    "                cd[0,i]=self.Dissimilarity(Population[i])\n",
    "                \n",
    "                #cd[0,index_of_self]=np.inf\n",
    "            #cd[0,PopSize]=np.inf\n",
    "            \n",
    "        if case==\"cmin-removed\": \n",
    "            cd=np.empty(shape=[1, PopSize-1]) \n",
    "            pop_cmin_removed=Population[:]  #deep copy\n",
    "            #print(int(index_cmin))\n",
    "            del pop_cmin_removed[int(index_cmin)]\n",
    "            for i in range(0,PopSize-1):\n",
    "                cd[0,i]=self.Dissimilarity(pop_cmin_removed[i])           \n",
    "        return np.min(cd)\n",
    "    \n",
    "    \n",
    "    def __str__(self):\n",
    "        return str((self.Chromosome,self.Fitness))\n",
    "    \n",
    "def FunctionEvaluation(f,ListOfVars,ListOfVals):\n",
    "        Dim=len(ListOfVars)\n",
    "        for i in range(0,Dim):\n",
    "            f=f.subs({ListOfVars[i]:ListOfVals[i]})\n",
    "        return f"
   ]
  },
  {
   "cell_type": "code",
   "execution_count": null,
   "metadata": {
    "collapsed": false
   },
   "outputs": [],
   "source": [
    "import numpy as np\n",
    "import sympy\n",
    "import random\n",
    "\n",
    "#s = str('x1**2+sin(x2)')\n",
    "#ListOfVars=['x1','x2']\n",
    "#f = sympy.sympify(s)\n",
    "\n",
    "#Function='x1^2*sin(x2)+cos(x3)'\n",
    "#ListOfVars=['x1','x2','x3']\n",
    "#R=np.array([[-1,1],[-1,1],[-1,2]])\n",
    "\n",
    "Function='sin(x1)'\n",
    "ListOfVars=['x1']\n",
    "R=np.array([[-np.pi,np.pi]])\n",
    "\n",
    "\n",
    "NumGen=10\n",
    "PopSize=50\n",
    "\n",
    "#Function='x1^2+1'\n",
    "#ListOfVars=['x1']\n",
    "#R=np.array([[-1,1]])\n",
    "#NumGen=500\n",
    "#PopSize=50"
   ]
  },
  {
   "cell_type": "code",
   "execution_count": null,
   "metadata": {
    "collapsed": false
   },
   "outputs": [],
   "source": [
    "s=str(Function)\n",
    "f=sympy.sympify(s)\n",
    "dim=len(ListOfVars)\n",
    "\n",
    "Population=[]\n",
    "\n",
    "Fitness=np.empty(shape=[1, PopSize]) \n",
    "MinFit=np.empty(shape=[1, NumGen])\n",
    "MaxFit=np.empty(shape=[1, NumGen])\n",
    "AverageFit=np.empty(shape=[1, NumGen])\n",
    "        \n",
    "for i in range(0,PopSize):#2\n",
    "    p=Individual()\n",
    "    p.Create(dim,R)\n",
    "    Population.append(p)  #.Chromosome\n",
    "\n",
    "    ListofVals=p.Chromosome[0]\n",
    "    Fitness[0,i]=FunctionEvaluation(f,ListOfVars,np.ndarray.tolist(ListofVals))\n",
    "        \n",
    "for n in range(0,NumGen):\n",
    "    index1=random.randint(0,PopSize-1)\n",
    "    index2=random.randint(0,PopSize-1)\n",
    "        \n",
    "    parent1=Population[index1]\n",
    "    parent2=Population[index2]\n",
    "        \n",
    "    fitness_parent1=Fitness[0,index1]\n",
    "    fitness_parent2=Fitness[0,index2]\n",
    "        \n",
    "    child1, child2= parent1.Crossover(parent2)\n",
    "        \n",
    "    child1=child1.Mutation(R,dim)\n",
    "        #child2=child2.Mutation(R,dim)\n",
    "        \n",
    "    \n",
    "    ListofVals=child1.Chromosome[0]\n",
    "    fitness_child1=FunctionEvaluation(f,ListOfVars,np.ndarray.tolist(ListofVals))\n",
    "        #ListofVals=child2.Chromosome[0]\n",
    "        #fitness_child2=FunctionEvaluation(f,ListOfVars,np.ndarray.tolist(ListofVals))\n",
    "        \n",
    "        \n",
    "        #DCRW\n",
    "        \n",
    "    counter=0;\n",
    "    contribution_diversity_worse=[]\n",
    "    contribution_diversity_worse_indices=[]\n",
    "    for i in range(0,PopSize):\n",
    "        if fitness_child1<Fitness[0,i]:\n",
    "            counter=counter+1;\n",
    "            contribution_diversity_worse=np.hstack([contribution_diversity_worse, Population[i].contribution_diversity(i,Population,PopSize,\"Regualr\")])\n",
    "            contribution_diversity_worse_indices=np.hstack([contribution_diversity_worse_indices, i])\n",
    "        \n",
    "    if counter==0:   # replace worse\n",
    "        index=np.argmax(Fitness)\n",
    "        Population[index]=child1;\n",
    "        Fitness[0,index]=fitness_child1;\n",
    "           \n",
    "           \n",
    "    if counter!=0:   #Case 1\n",
    "        index_cmin=np.argmin(contribution_diversity_worse)\n",
    "        cmin_contribution_diversity=np.min(contribution_diversity_worse)\n",
    "        index_cmin=contribution_diversity_worse_indices[index_cmin]\n",
    "        cmin=Population[int(index_cmin)]\n",
    "            \n",
    "            #now compare contr_diver of this elemet to the contr_div of the child to the pop (removing cmin from pop)\n",
    "             #find the con_divversity of child to the pop (where cmin removed frm pop\n",
    "                                     \n",
    "        #pop_cmin_removed=Population\n",
    "        #del pop_cmin_removed[int(index_cmin)]\n",
    "        contribution_diversity_child = child1.contribution_diversity(index_cmin,Population,PopSize,\"cmin-removed\")\n",
    "        #contribution_diversity_child=Population[i].contribution_diversity(PopSize,Population,PopSize)\n",
    "\n",
    "        if contribution_diversity_child>cmin_contribution_diversity:\n",
    "            Population[int(index_cmin)]=child1;\n",
    "            Fitness[0,int(index_cmin)]=fitness_child1\n",
    "            \n",
    "        else: #replace worse\n",
    "            \n",
    "            index=np.argmax(Fitness)\n",
    "            Population[index]=child1;\n",
    "            Fitness[0,index]=fitness_child1;   \n",
    "            \n",
    "    \n",
    "\n",
    "    MinFit[0,n]=np.min(Fitness)\n",
    "    MaxFit[0,n]=np.max(Fitness)\n",
    "    AverageFit[0,n]=np.average(Fitness)\n",
    "        \n",
    "        \n",
    "    if MinFit[0,n]==MaxFit[0,n]:\n",
    "        break\n",
    "        \n",
    "    if np.isnan(np.max(MinFit)):\n",
    "        break\n",
    "\n",
    "a=np.min(Fitness)\n",
    "b=np.ndarray.tolist(Population[np.argmin(Fitness)].Chromosome[0])\n",
    "\n",
    "print(\"The minimim of function  \", f, ' is ', a, 'occured in  ', b)\n",
    "    #return MinFit,MaxFit, AverageFit,a,b,n\n",
    "    \n"
   ]
  },
  {
   "cell_type": "code",
   "execution_count": null,
   "metadata": {
    "collapsed": false
   },
   "outputs": [],
   "source": [
    "import matplotlib.pyplot as plt\n",
    "%matplotlib inline\n",
    "\n",
    "t = np.arange(0.0, NumGen, 1)\n",
    "\n",
    "plt.plot(t,MinFit[0,:])\n",
    "plt.plot(t,MaxFit[0,:])\n",
    "plt.plot(t,AverageFit[0,:])\n",
    "\n",
    "#a=np.min(Fitness)\n",
    "#b=np.ndarray.tolist(Population[np.argmin(Fitness)].Chromosome[0])\n",
    "\n",
    "#print(\"The minimim of function  \", f, ' is ', a, 'occured in  ', b)"
   ]
  },
  {
   "cell_type": "code",
   "execution_count": null,
   "metadata": {
    "collapsed": false
   },
   "outputs": [],
   "source": [
    "plt.plot(t,MinFit[0,:])"
   ]
  },
  {
   "cell_type": "code",
   "execution_count": null,
   "metadata": {
    "collapsed": false
   },
   "outputs": [],
   "source": [
    "t=np.arange(0,100,10)\n",
    "y=np.sin(t)\n",
    "plt.plot(t,y,marker='o',linestyle='',color='r')\n"
   ]
  },
  {
   "cell_type": "code",
   "execution_count": null,
   "metadata": {
    "collapsed": false
   },
   "outputs": [],
   "source": [
    "for i in range(0,PopSize):\n",
    "        plt.plot(Population[i].Chromosome,Fitness[0,i],marker='o',linestyle='',color='r')\n",
    "\n",
    "t=np.arange(R[0,0],R[0,1],.1)\n",
    "y=np.empty(shape=[1, len(t)]) \n",
    "for i in range(0,len(t)):\n",
    "    y[0,i]=FunctionEvaluation(f,ListOfVars,np.array([t[i]]))\n",
    "plt.plot(t,y[0,:])\n",
    "\n",
    "\n"
   ]
  },
  {
   "cell_type": "code",
   "execution_count": null,
   "metadata": {
    "collapsed": false
   },
   "outputs": [],
   "source": [
    "np.shape(t)"
   ]
  },
  {
   "cell_type": "code",
   "execution_count": null,
   "metadata": {
    "collapsed": false,
    "scrolled": true
   },
   "outputs": [],
   "source": [
    "np.shape(y)"
   ]
  },
  {
   "cell_type": "code",
   "execution_count": null,
   "metadata": {
    "collapsed": false
   },
   "outputs": [],
   "source": [
    "np.array([t[i]])"
   ]
  },
  {
   "cell_type": "code",
   "execution_count": null,
   "metadata": {
    "collapsed": true
   },
   "outputs": [],
   "source": []
  }
 ],
 "metadata": {
  "kernelspec": {
   "display_name": "Python 3",
   "language": "python",
   "name": "python3"
  },
  "language_info": {
   "codemirror_mode": {
    "name": "ipython",
    "version": 3
   },
   "file_extension": ".py",
   "mimetype": "text/x-python",
   "name": "python",
   "nbconvert_exporter": "python",
   "pygments_lexer": "ipython3",
   "version": "3.5.1"
  },
  "latex_envs": {
   "bibliofile": "biblio.bib",
   "cite_by": "apalike",
   "current_citInitial": 1,
   "eqLabelWithNumbers": true,
   "eqNumInitial": 0
  }
 },
 "nbformat": 4,
 "nbformat_minor": 0
}
