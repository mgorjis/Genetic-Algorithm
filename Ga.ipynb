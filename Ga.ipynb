{
 "cells": [
  {
   "cell_type": "code",
   "execution_count": 1,
   "metadata": {
    "collapsed": false
   },
   "outputs": [
    {
     "name": "stdout",
     "output_type": "stream",
     "text": [
      "Once deleted, variables cannot be recovered. Proceed (y/[n])? y\n"
     ]
    }
   ],
   "source": [
    "%reset"
   ]
  },
  {
   "cell_type": "code",
   "execution_count": 23,
   "metadata": {
    "collapsed": false
   },
   "outputs": [],
   "source": [
    "class Individual(object):\n",
    "    \n",
    "    def __init__(self,Chromosome=0,Fitness=0):\n",
    "        self.Chromosome=Chromosome\n",
    "        self.Fitness=Fitness\n",
    "    \n",
    "    def Create(self,dim,R):   # create chromosome of dim elements in the range of a and b\n",
    "        self.Chromosome=np.empty([1,dim])\n",
    "        for i in range(0,dim):\n",
    "            self.Chromosome[0,i]=(R[i,1]-R[i,0])*np.random.rand()+R[i,0]\n",
    "    \n",
    "    def Crossover(self,other):\n",
    "        child1=Individual()\n",
    "        child2=Individual()\n",
    "        alpha=np.random.rand()\n",
    "        child1.Chromosome=(alpha)*(self.Chromosome)+(1-alpha)*(other.Chromosome)\n",
    "        child2.Chromosome=(1-alpha)*(self.Chromosome)+(alpha)*(other.Chromosome)\n",
    "        return child1, child2, alpha\n",
    "        \n",
    "    \n",
    "    def Mutation(self,R):\n",
    "        mutant=self\n",
    "        d=random.randint(0,dim-1)\n",
    "        #d=np.random.random_integers(0,dim-1)  #dim_of_mutation=\n",
    "        mut_range=0.1*(R[d,1]-R[d,0])\n",
    "        self.Chromosome[0,d]= max(R[d,0]  , min (R[d,1], self.Chromosome[0,d]+mut_range*(np.random.rand()-0.5) )  )\n",
    "        #self.Chromosome[0,d]= self.Chromosome[0,d]+mut_range*(np.random.rand()-0.5)\n",
    "        return self \n",
    "    \n",
    "    def Dissimilarity(self,other):\n",
    "        return np.linalg.norm(self.Chromosome-other.Chromosome)\n",
    "    \n",
    "    \n",
    "    def __str__(self):\n",
    "        return str((self.Chromosome,self.Fitness))\n",
    "    \n",
    "def FunctionEvaluation(f,ListOfVars,ListOfVals):\n",
    "        Dim=len(ListOfVars)\n",
    "        for i in range(0,Dim):\n",
    "            f=f.subs({ListOfVars[i]:ListOfVals[i]})\n",
    "        return f\n",
    "    "
   ]
  },
  {
   "cell_type": "code",
   "execution_count": 24,
   "metadata": {
    "collapsed": false
   },
   "outputs": [],
   "source": [
    "import numpy as np\n",
    "import sympy\n",
    "import random\n",
    "\n",
    "#s = str('x1**2+sin(x2)')\n",
    "#ListOfVars=['x1','x2']\n",
    "#f = sympy.sympify(s)\n",
    "#Function='x1^2*sin(x2)+cos(x3)'\n",
    "#ListOfVars=['x1','x2','x3']\n",
    "#R=np.array([[1,5],[0,1],[0,2]])\n",
    "#NumGen=500\n",
    "#PopSize=20\n",
    "\n",
    "Function='x1^2'\n",
    "ListOfVars=['x1']\n",
    "R=np.array([[-1,1]])\n",
    "NumGen=5000\n",
    "PopSize=50"
   ]
  },
  {
   "cell_type": "code",
   "execution_count": 25,
   "metadata": {
    "collapsed": false
   },
   "outputs": [
    {
     "name": "stdout",
     "output_type": "stream",
     "text": [
      "[[  1.25649332e-03   6.53637197e-01   5.79323167e-01   1.58906730e-01\n",
      "    3.00186228e-01   5.25904078e-04   3.71010183e-02   2.80027573e-02\n",
      "    3.80661906e-01   1.09411611e-01   9.92829872e-01   3.83193414e-02\n",
      "    5.44274336e-02   1.73525780e-01   1.20527072e-01   1.97302836e-01\n",
      "    6.46182758e-03   4.14509463e-01   4.67757234e-01   7.35898574e-01\n",
      "    4.10311593e-01   8.39932833e-01   5.38010692e-01   3.57890249e-01\n",
      "    6.33867730e-02   3.98879694e-04   5.31594331e-02   6.13755258e-01\n",
      "    6.94485480e-01   3.07813158e-02   4.22244219e-01   8.98069572e-01\n",
      "    1.39877523e-01   4.07477298e-01   8.28405668e-01   7.72206486e-03\n",
      "    6.35935233e-01   1.28761884e-01   1.32511419e-01   7.65753667e-01\n",
      "    4.07768542e-01   9.78605188e-02   6.95272987e-01   4.14652879e-01\n",
      "    7.47876461e-01   3.03622717e-01   2.21523731e-01   4.00735994e-01\n",
      "    4.69583808e-01   1.74762069e-01]]\n"
     ]
    }
   ],
   "source": [
    "s=str(Function)\n",
    "f=sympy.sympify(s)\n",
    "dim=len(ListOfVars)\n",
    "\n",
    "Population=[]\n",
    "\n",
    "Fitness=np.empty(shape=[1, PopSize]) \n",
    "MinFit=np.empty(shape=[1, NumGen])\n",
    "MaxFit=np.empty(shape=[1, NumGen])\n",
    "AverageFit=np.empty(shape=[1, NumGen])\n",
    "S=0\n",
    "    \n",
    "for i in range(0,PopSize):\n",
    "    p=Individual()\n",
    "    p.Create(dim,R)\n",
    "    Population.append(p)  #.Chromosome\n",
    "\n",
    "    ListofVals=p.Chromosome[0]\n",
    "    Fitness[0,i]=FunctionEvaluation(f,ListOfVars,np.ndarray.tolist(ListofVals))\n",
    "    \n",
    "print(Fitness)\n",
    "\n",
    "    \n",
    "\n",
    "    \n",
    "#for i in range(0,PopSize):\n",
    "    #print(Population[i].Chromosome)\n",
    "    \n",
    "for n in range(0,NumGen):\n",
    "    \n",
    "    \n",
    "\n",
    "    \n",
    "    index1=random.randint(0,PopSize-1)\n",
    "    index2=random.randint(0,PopSize-1)\n",
    "       \n",
    "    parent1=Population[index1]\n",
    "    parent2=Population[index2]\n",
    "    \n",
    "    fitness_parent1=Fitness[0,index1]\n",
    "    fitness_parent2=Fitness[0,index2]\n",
    "    \n",
    "    child1, child2 , alpha = parent1.Crossover(parent2)\n",
    "    \n",
    "    child1=child1.Mutation(R)\n",
    "    child2=child2.Mutation(R)\n",
    "    \n",
    "   \n",
    "    ListofVals=child1.Chromosome[0]\n",
    "    fitness_child1=FunctionEvaluation(f,ListOfVars,np.ndarray.tolist(ListofVals))\n",
    "    ListofVals=child2.Chromosome[0]\n",
    "    fitness_child2=FunctionEvaluation(f,ListOfVars,np.ndarray.tolist(ListofVals))\n",
    "    \n",
    "    \n",
    "    #DC\n",
    "    dp1c1=parent1.Dissimilarity(child1)\n",
    "    dp1c2=parent1.Dissimilarity(child2)\n",
    "    dp2c1=parent2.Dissimilarity(child1)\n",
    "    dp2c2=parent2.Dissimilarity(child2)\n",
    "    \n",
    "\n",
    "    if (dp1c1+dp2c2)<=(dp1c2+dp2c1):\n",
    "#----------------------------------\n",
    "        if  fitness_child1<=fitness_parent1:\n",
    "            Population[index1]=child1;\n",
    "            Fitness[0,index1]=fitness_child1 \n",
    "            S=S+1\n",
    "        #else:\n",
    "            # Do nothing\n",
    "#----------------------------------           \n",
    "        if  fitness_child2<=fitness_parent2:\n",
    "            Population[index2]=child2;\n",
    "            Fitness[0,index2]=fitness_child2 \n",
    "            S=S+1\n",
    "        #else:\n",
    "            # Do nothing\n",
    "            \n",
    "    \n",
    "    \n",
    "    if (dp1c1+dp2c2)>(dp1c2+dp2c1):\n",
    "#----------------------------------   \n",
    "        if  fitness_child1<=fitness_parent2:\n",
    "            Population[index2]=child1;\n",
    "            Fitness[0,index2]=fitness_child1\n",
    "            S=S+1\n",
    "        #else:\n",
    "            # Do nothing\n",
    "            \n",
    "#----------------------------------          \n",
    "        if  fitness_child2<=fitness_parent1:\n",
    "            Population[index1]=child2;\n",
    "            Fitness[0,index1]=fitness_child2\n",
    "            S=S+1\n",
    "    \n",
    "        #else:\n",
    "        \n",
    "    \n",
    "    \n",
    "    \n",
    "    \n",
    "    \n",
    "    \n",
    "    \n",
    "    \n",
    "    # Replace worse\n",
    "    #index_worst=np.argsort(-Fitness)[0,0:2]\n",
    "    \n",
    "    #Population[index_worst[0]].Chromosome=child1.Chromosome\n",
    "    #Fitness[0,index_worst[0]]=fitness_child1\n",
    "    #Population[index_worst[1]].Chromosome=child2.Chromosome\n",
    "    #Fitness[0,index_worst[1]]=fitness_child2\n",
    "    \n",
    "    MinFit[0,n]=np.min(Fitness)\n",
    "    MaxFit[0,n]=np.max(Fitness)\n",
    "    AverageFit[0,n]=np.average(Fitness)\n",
    "    \n",
    "    \n"
   ]
  },
  {
   "cell_type": "code",
   "execution_count": 26,
   "metadata": {
    "collapsed": false
   },
   "outputs": [
    {
     "name": "stdout",
     "output_type": "stream",
     "text": [
      "The minimim of function   x1**2  is  1.12921052609e-10 occured in   [1.0626431791029489e-05]\n"
     ]
    },
    {
     "data": {
      "image/png": "[encoded data removed]",
      "text/plain": [
       "<matplotlib.figure.Figure at 0x1e525bd2e80>"
      ]
     },
     "metadata": {},
     "output_type": "display_data"
    }
   ],
   "source": [
    "import matplotlib.pyplot as plt\n",
    "%matplotlib inline\n",
    "\n",
    "t = np.arange(0.0, NumGen, 1)\n",
    "\n",
    "plt.plot(t,MinFit[0,:])\n",
    "plt.plot(t,MaxFit[0,:])\n",
    "plt.plot(t,AverageFit[0,:])\n",
    "\n",
    "a=np.min(Fitness)\n",
    "b=np.ndarray.tolist(Population[np.argmin(Fitness)].Chromosome[0])\n",
    "\n",
    "print(\"The minimim of function  \", f, ' is ', a, 'occured in  ', b)"
   ]
  },
  {
   "cell_type": "code",
   "execution_count": null,
   "metadata": {
    "collapsed": false
   },
   "outputs": [],
   "source": [
    "S"
   ]
  },
  {
   "cell_type": "code",
   "execution_count": null,
   "metadata": {
    "collapsed": false
   },
   "outputs": [],
   "source": [
    "print(Fitness)"
   ]
  },
  {
   "cell_type": "code",
   "execution_count": null,
   "metadata": {
    "collapsed": false
   },
   "outputs": [],
   "source": [
    "[[  2.03801774e-03   4.30837763e-01   5.24388809e-01   9.83724458e-01\n",
    "    1.41610181e-01   2.18727397e-01   1.40694851e-02   1.57722293e-01\n",
    "    7.89549980e-01   3.21069703e-01   8.19871637e-01   1.23246452e-01\n",
    "    2.70198222e-01   7.08383416e-02   4.12722893e-04   5.57405031e-01\n",
    "    2.55302628e-02   1.82315653e-02   9.09644384e-02   9.92299693e-04\n",
    "    8.44483989e-01   3.80570965e-01   9.99135151e-02   7.01911355e-01\n",
    "    8.68281151e-01   6.12678927e-01   2.56491236e-02   2.63821369e-01\n",
    "    7.02473517e-02   4.00037356e-01   1.19196341e-01   1.26846415e-01\n",
    "    1.03158288e-01   3.59836600e-01   9.43380963e-02   4.67570973e-01\n",
    "    7.08110376e-01   4.73630116e-02   1.72880367e-01   1.94433703e-02\n",
    "    6.66711417e-02   3.28901698e-01   4.89125894e-01   7.23734891e-01\n",
    "    7.27774983e-01   9.56942402e-01   4.92237715e-01   1.92674948e-01\n",
    "    1.29277935e-01   4.29008126e-01]]\n"
   ]
  },
  {
   "cell_type": "code",
   "execution_count": null,
   "metadata": {
    "collapsed": false
   },
   "outputs": [],
   "source": [
    "parent2.Chromosome"
   ]
  },
  {
   "cell_type": "code",
   "execution_count": null,
   "metadata": {
    "collapsed": false
   },
   "outputs": [],
   "source": [
    "parent1.Chromosome"
   ]
  },
  {
   "cell_type": "code",
   "execution_count": null,
   "metadata": {
    "collapsed": false
   },
   "outputs": [],
   "source": [
    "child1.Chromosome"
   ]
  },
  {
   "cell_type": "code",
   "execution_count": null,
   "metadata": {
    "collapsed": false
   },
   "outputs": [],
   "source": [
    "for i in range(0,PopSize):\n",
    "    print(Population[i].Chromosome)"
   ]
  },
  {
   "cell_type": "code",
   "execution_count": null,
   "metadata": {
    "collapsed": true
   },
   "outputs": [],
   "source": []
  }
 ],
 "metadata": {
  "kernelspec": {
   "display_name": "Python 3",
   "language": "python",
   "name": "python3"
  },
  "language_info": {
   "codemirror_mode": {
    "name": "ipython",
    "version": 3
   },
   "file_extension": ".py",
   "mimetype": "text/x-python",
   "name": "python",
   "nbconvert_exporter": "python",
   "pygments_lexer": "ipython3",
   "version": "3.5.1"
  },
  "latex_envs": {
   "bibliofile": "biblio.bib",
   "cite_by": "apalike",
   "current_citInitial": 1,
   "eqLabelWithNumbers": true,
   "eqNumInitial": 0
  }
 },
 "nbformat": 4,
 "nbformat_minor": 0
}
