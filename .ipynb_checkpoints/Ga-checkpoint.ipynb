{
 "cells": [
  {
   "cell_type": "code",
   "execution_count": 163,
   "metadata": {
    "collapsed": false
   },
   "outputs": [
    {
     "name": "stdout",
     "output_type": "stream",
     "text": [
      "Once deleted, variables cannot be recovered. Proceed (y/[n])? y\n"
     ]
    }
   ],
   "source": [
    "%reset"
   ]
  },
  {
   "cell_type": "code",
   "execution_count": 114,
   "metadata": {
    "collapsed": false
   },
   "outputs": [],
   "source": [
    "class Individual(object):\n",
    "    \n",
    "    def __init__(self,Chromosome=0,Fitness=0):\n",
    "        self.Chromosome=Chromosome\n",
    "        self.Fitness=Fitness\n",
    "    \n",
    "    def Create(self,dim,R):   # create chromosome of dim elements in the range of a and b\n",
    "        self.Chromosome=np.empty([1,dim])\n",
    "        for i in range(0,dim):\n",
    "            self.Chromosome[0,i]=(R[i,1]-R[i,0])*np.random.rand()+R[i,0]\n",
    "    \n",
    "    def Crossover(self,other):\n",
    "        child1=Individual()\n",
    "        child2=Individual()\n",
    "        alpha=np.random.rand()\n",
    "        child1.Chromosome=(alpha)*(self.Chromosome)+(1-alpha)*(other.Chromosome)\n",
    "        child2.Chromosome=(1-alpha)*(self.Chromosome)+(alpha)*(other.Chromosome)\n",
    "        return child1, child2, alpha\n",
    "        \n",
    "    \n",
    "    def Mutation(self,R):\n",
    "        mutant=self\n",
    "        d=random.randint(0,dim-1)\n",
    "        #d=np.random.random_integers(0,dim-1)  #dim_of_mutation=\n",
    "        mut_range=0.1*(R[d,1]-R[d,0])\n",
    "        self.Chromosome[0,d]= max(R[d,1]  , min (R[d,0], self.Chromosome[0,d]+mut_range*(np.random.rand()-0.5) )  )\n",
    "        return mutant \n",
    "    \n",
    "    def Dissimilarity(self,other):\n",
    "        return np.linalg.norm(self.Chromosome-other.Chromosome)\n",
    "    \n",
    "    \n",
    "    def __str__(self):\n",
    "        return str((self.Chromosome,self.Fitness))\n",
    "    \n",
    "def FunctionEvaluation(f,ListOfVars,ListOfVals):\n",
    "        Dim=len(ListOfVars)\n",
    "        for i in range(0,Dim):\n",
    "            f=f.subs({ListOfVars[i]:ListOfVals[i]})\n",
    "        return f\n",
    "    "
   ]
  },
  {
   "cell_type": "code",
   "execution_count": 156,
   "metadata": {
    "collapsed": false
   },
   "outputs": [],
   "source": [
    "import numpy as np\n",
    "import sympy\n",
    "import random\n",
    "\n",
    "#s = str('x1**2+sin(x2)')\n",
    "#ListOfVars=['x1','x2']\n",
    "#f = sympy.sympify(s)\n",
    "#Function='x1^2*sin(x2)+cos(x3)'\n",
    "#ListOfVars=['x1','x2','x3']\n",
    "#R=np.array([[1,5],[0,1],[0,2]])\n",
    "#NumGen=500\n",
    "#PopSize=20\n",
    "\n",
    "Function='x1^2'\n",
    "ListOfVars=['x1']\n",
    "R=np.array([[-1,1]])\n",
    "NumGen=5000\n",
    "PopSize=50"
   ]
  },
  {
   "cell_type": "code",
   "execution_count": 161,
   "metadata": {
    "collapsed": false
   },
   "outputs": [
    {
     "name": "stdout",
     "output_type": "stream",
     "text": [
      "[[  4.41423925e-01   4.14412160e-01   4.75714089e-01   1.43265658e-02\n",
      "    7.16206672e-01   8.94263109e-01   1.29902941e-02   7.29175763e-03\n",
      "    2.23929037e-01   4.45976637e-01   3.78994605e-01   7.65130554e-01\n",
      "    8.61690040e-01   5.90468304e-01   7.27977371e-01   6.58316838e-01\n",
      "    6.67493271e-02   3.82985791e-01   5.86926803e-01   1.69856412e-01\n",
      "    1.53755399e-02   4.96056185e-01   9.15646312e-01   1.46525259e-02\n",
      "    3.61534412e-01   3.92713816e-01   1.06264230e-02   5.22241554e-03\n",
      "    4.31445676e-01   6.34136438e-02   2.37807464e-01   2.58870469e-01\n",
      "    8.37735406e-01   1.89906988e-01   1.65782898e-03   1.56322371e-01\n",
      "    1.32830918e-03   8.48982734e-01   4.45067664e-04   6.51851547e-01\n",
      "    2.35934601e-01   8.05399651e-02   2.52425746e-02   5.61971796e-01\n",
      "    5.37526454e-01   4.31346808e-01   9.97684591e-01   8.19169161e-01\n",
      "    9.04751740e-02   6.76490876e-01]]\n"
     ]
    }
   ],
   "source": [
    "s=str(Function)\n",
    "f=sympy.sympify(s)\n",
    "dim=len(ListOfVars)\n",
    "\n",
    "Population=[]\n",
    "\n",
    "Fitness=np.empty(shape=[1, PopSize]) \n",
    "MinFit=np.empty(shape=[1, NumGen])\n",
    "MaxFit=np.empty(shape=[1, NumGen])\n",
    "AverageFit=np.empty(shape=[1, NumGen])\n",
    "S=0\n",
    "    \n",
    "for i in range(0,PopSize):\n",
    "    p=Individual()\n",
    "    p.Create(dim,R)\n",
    "    Population.append(p)  #.Chromosome\n",
    "\n",
    "    ListofVals=p.Chromosome[0]\n",
    "    Fitness[0,i]=FunctionEvaluation(f,ListOfVars,np.ndarray.tolist(ListofVals))\n",
    "    \n",
    "print(Fitness)\n",
    "\n",
    "    \n",
    "\n",
    "    \n",
    "#for i in range(0,PopSize):\n",
    "    #print(Population[i].Chromosome)\n",
    "    \n",
    "for n in range(0,NumGen):\n",
    "    \n",
    "    \n",
    "\n",
    "    \n",
    "    index1=random.randint(0,PopSize-1)\n",
    "    index2=random.randint(0,PopSize-1)\n",
    "       \n",
    "    parent1=Population[index1]\n",
    "    parent2=Population[index2]\n",
    "    \n",
    "    fitness_parent1=Fitness[0,index1]\n",
    "    fitness_parent2=Fitness[0,index2]\n",
    "    \n",
    "    child1, child2 , alpha = parent1.Crossover(parent2)\n",
    "    \n",
    "    child1=child1.Mutation(R)\n",
    "    child2=child2.Mutation(R)\n",
    "    \n",
    "   \n",
    "    ListofVals=child1.Chromosome[0]\n",
    "    fitness_child1=FunctionEvaluation(f,ListOfVars,np.ndarray.tolist(ListofVals))\n",
    "    ListofVals=child2.Chromosome[0]\n",
    "    fitness_child2=FunctionEvaluation(f,ListOfVars,np.ndarray.tolist(ListofVals))\n",
    "    \n",
    "    \n",
    "    #DC\n",
    "    #dp1c1=parent1.Dissimilarity(child1)\n",
    "    #dp1c2=parent1.Dissimilarity(child2)\n",
    "    #dp2c1=parent2.Dissimilarity(child1)\n",
    "    #dp2c2=parent2.Dissimilarity(child2)\n",
    "    \n",
    "\n",
    "        \n",
    "    \n",
    "    \n",
    "    \n",
    "    \n",
    "    \n",
    "    \n",
    "    \n",
    "    \n",
    "    # Replace worse\n",
    "    index_worst=np.argsort(-Fitness)[0,0:2]\n",
    "    \n",
    "    Population[index_worst[0]].Chromosome=child1.Chromosome\n",
    "    Fitness[0,index_worst[0]]=fitness_child1\n",
    "    Population[index_worst[1]].Chromosome=child2.Chromosome\n",
    "    Fitness[0,index_worst[1]]=fitness_child2\n",
    "    \n",
    "    MinFit[0,n]=np.min(Fitness)\n",
    "    MaxFit[0,n]=np.max(Fitness)\n",
    "    AverageFit[0,n]=np.average(Fitness)\n",
    "    \n",
    "    \n"
   ]
  },
  {
   "cell_type": "code",
   "execution_count": 162,
   "metadata": {
    "collapsed": false
   },
   "outputs": [
    {
     "name": "stdout",
     "output_type": "stream",
     "text": [
      "The minimim of function   x1**2  is  0.000445067663759 occured in   [0.02109662683366942]\n"
     ]
    },
    {
     "data": {
      "image/png": "[encoded data removed]",
      "text/plain": [
       "<matplotlib.figure.Figure at 0x28379cba8d0>"
      ]
     },
     "metadata": {},
     "output_type": "display_data"
    }
   ],
   "source": [
    "import matplotlib.pyplot as plt\n",
    "%matplotlib inline\n",
    "\n",
    "t = np.arange(0.0, NumGen, 1)\n",
    "\n",
    "plt.plot(t,MinFit[0,:])\n",
    "plt.plot(t,MaxFit[0,:])\n",
    "plt.plot(t,AverageFit[0,:])\n",
    "\n",
    "a=np.min(Fitness)\n",
    "b=np.ndarray.tolist(Population[np.argmin(Fitness)].Chromosome[0])\n",
    "\n",
    "print(\"The minimim of function  \", f, ' is ', a, 'occured in  ', b)"
   ]
  },
  {
   "cell_type": "code",
   "execution_count": 151,
   "metadata": {
    "collapsed": false
   },
   "outputs": [
    {
     "data": {
      "text/plain": [
       "0"
      ]
     },
     "execution_count": 151,
     "metadata": {},
     "output_type": "execute_result"
    }
   ],
   "source": [
    "S"
   ]
  },
  {
   "cell_type": "code",
   "execution_count": 152,
   "metadata": {
    "collapsed": false
   },
   "outputs": [
    {
     "name": "stdout",
     "output_type": "stream",
     "text": [
      "[[  2.03801774e-03   4.30837763e-01   5.24388809e-01   9.83724458e-01\n",
      "    1.41610181e-01   2.18727397e-01   1.40694851e-02   1.57722293e-01\n",
      "    7.89549980e-01   3.21069703e-01   8.19871637e-01   1.23246452e-01\n",
      "    2.70198222e-01   7.08383416e-02   4.12722893e-04   5.57405031e-01\n",
      "    2.55302628e-02   1.82315653e-02   9.09644384e-02   9.92299693e-04\n",
      "    8.44483989e-01   3.80570965e-01   9.99135151e-02   7.01911355e-01\n",
      "    8.68281151e-01   6.12678927e-01   2.56491236e-02   2.63821369e-01\n",
      "    7.02473517e-02   4.00037356e-01   1.19196341e-01   1.26846415e-01\n",
      "    1.03158288e-01   3.59836600e-01   9.43380963e-02   4.67570973e-01\n",
      "    7.08110376e-01   4.73630116e-02   1.72880367e-01   1.94433703e-02\n",
      "    6.66711417e-02   3.28901698e-01   4.89125894e-01   7.23734891e-01\n",
      "    7.27774983e-01   9.56942402e-01   4.92237715e-01   1.92674948e-01\n",
      "    1.29277935e-01   4.29008126e-01]]\n"
     ]
    }
   ],
   "source": [
    "print(Fitness)"
   ]
  },
  {
   "cell_type": "code",
   "execution_count": 139,
   "metadata": {
    "collapsed": false
   },
   "outputs": [
    {
     "data": {
      "text/plain": [
       "0.069739087071549993"
      ]
     },
     "execution_count": 139,
     "metadata": {},
     "output_type": "execute_result"
    }
   ],
   "source": [
    "[[  2.03801774e-03   4.30837763e-01   5.24388809e-01   9.83724458e-01\n",
    "    1.41610181e-01   2.18727397e-01   1.40694851e-02   1.57722293e-01\n",
    "    7.89549980e-01   3.21069703e-01   8.19871637e-01   1.23246452e-01\n",
    "    2.70198222e-01   7.08383416e-02   4.12722893e-04   5.57405031e-01\n",
    "    2.55302628e-02   1.82315653e-02   9.09644384e-02   9.92299693e-04\n",
    "    8.44483989e-01   3.80570965e-01   9.99135151e-02   7.01911355e-01\n",
    "    8.68281151e-01   6.12678927e-01   2.56491236e-02   2.63821369e-01\n",
    "    7.02473517e-02   4.00037356e-01   1.19196341e-01   1.26846415e-01\n",
    "    1.03158288e-01   3.59836600e-01   9.43380963e-02   4.67570973e-01\n",
    "    7.08110376e-01   4.73630116e-02   1.72880367e-01   1.94433703e-02\n",
    "    6.66711417e-02   3.28901698e-01   4.89125894e-01   7.23734891e-01\n",
    "    7.27774983e-01   9.56942402e-01   4.92237715e-01   1.92674948e-01\n",
    "    1.29277935e-01   4.29008126e-01]]\n"
   ]
  },
  {
   "cell_type": "code",
   "execution_count": 94,
   "metadata": {
    "collapsed": false
   },
   "outputs": [
    {
     "data": {
      "text/plain": [
       "array([[ 4.71714821, -0.95635289,  2.6240523 ]])"
      ]
     },
     "execution_count": 94,
     "metadata": {},
     "output_type": "execute_result"
    }
   ],
   "source": [
    "parent2.Chromosome"
   ]
  },
  {
   "cell_type": "code",
   "execution_count": 95,
   "metadata": {
    "collapsed": false
   },
   "outputs": [
    {
     "data": {
      "text/plain": [
       "array([[ 4.92699323, -0.96742617,  2.81405291]])"
      ]
     },
     "execution_count": 95,
     "metadata": {},
     "output_type": "execute_result"
    }
   ],
   "source": [
    "parent1.Chromosome"
   ]
  },
  {
   "cell_type": "code",
   "execution_count": 96,
   "metadata": {
    "collapsed": false
   },
   "outputs": [
    {
     "data": {
      "text/plain": [
       "array([[ 5.0171187 , -0.96564882,  2.78355635]])"
      ]
     },
     "execution_count": 96,
     "metadata": {},
     "output_type": "execute_result"
    }
   ],
   "source": [
    "child1.Chromosome"
   ]
  },
  {
   "cell_type": "code",
   "execution_count": 141,
   "metadata": {
    "collapsed": false
   },
   "outputs": [
    {
     "name": "stdout",
     "output_type": "stream",
     "text": [
      "[[-0.8568855  -0.26566916 -0.39882462]]\n",
      "[[ 0.00317207  1.         -0.00963204]]\n",
      "[[ 1.         -0.00736427  0.06879839]]\n",
      "[[ 0.89564054 -0.0710062  -0.25672746]]\n",
      "[[ 0.44695563 -0.43976532 -0.31561653]]\n",
      "[[ 1.         -0.06105541 -0.02424123]]\n",
      "[[-0.09980111 -0.0488866   1.        ]]\n",
      "[[  1.00000000e+00   3.02728414e-04  -4.18883259e-02]]\n",
      "[[ 1.         -0.01042473 -0.00332495]]\n",
      "[[ 0.06151847 -0.00720976  1.        ]]\n",
      "[[ 0.02679083  0.83377557  0.2522844 ]]\n",
      "[[-0.70766454  0.59662348  0.27501355]]\n",
      "[[ 0.3904752 -0.3452979  0.6541335]]\n",
      "[[-0.20778828  0.1585789  -0.12141691]]\n",
      "[[ 0.031274   -0.09998442 -0.95891837]]\n",
      "[[  1.00000000e+00   7.46170377e-03   6.04989743e-04]]\n",
      "[[-0.43686757 -0.24800255  0.30362989]]\n",
      "[[-0.04371205  1.          0.08111434]]\n",
      "[[ 0.02052297 -0.05375551  0.25773676]]\n",
      "[[ 0.39911877  0.78016     0.1819491 ]]\n",
      "[[ 0.36383955 -0.52023671 -0.15512565]]\n",
      "[[ 0.5255046   0.37488892  0.20068223]]\n",
      "[[ 1.         -0.03012193  0.00740282]]\n",
      "[[-0.14317666 -0.8027572  -0.53913146]]\n",
      "[[-0.00160868  0.17391685 -0.25438258]]\n",
      "[[-0.15768987 -0.71612885 -0.31771698]]\n",
      "[[-0.35052394  0.17445576  0.81378137]]\n",
      "[[ 0.62717297  0.39505482 -0.67583504]]\n",
      "[[ 1.         -0.02277301 -0.05942046]]\n",
      "[[ 1.          0.00728818 -0.00550597]]\n",
      "[[ 0.70616845 -0.38365306 -0.55166285]]\n",
      "[[ 0.81251608  0.02273717  0.30530365]]\n",
      "[[-0.28045103 -0.41039995  0.55617631]]\n",
      "[[ 0.05665947  1.          0.02412205]]\n",
      "[[-0.32356217 -0.0786473  -0.48398773]]\n",
      "[[  3.75414494e-04   1.00000000e+00   9.76608099e-02]]\n",
      "[[-0.04294086 -0.20544468 -0.24970429]]\n",
      "[[ 1.         -0.22973048  0.02108833]]\n",
      "[[ 1.          0.01447484 -0.01005256]]\n",
      "[[ 0.20123611 -0.15288174 -0.50801964]]\n",
      "[[ 1.          0.03451962  0.02479106]]\n",
      "[[ 1.         -0.02436102 -0.04816961]]\n",
      "[[-0.61708511 -0.17444717 -0.10794889]]\n",
      "[[ 0.03270705 -0.03115896  1.        ]]\n",
      "[[ 0.19525653  1.         -0.1194161 ]]\n",
      "[[ 0.40336626  0.38250257 -0.71253866]]\n",
      "[[ 0.06510768 -0.003984    1.        ]]\n",
      "[[ 0.01142042  0.4797338  -0.31472349]]\n",
      "[[-0.25939792  0.20190913  0.60852032]]\n",
      "[[ 1.         -0.02278074 -0.02906947]]\n"
     ]
    }
   ],
   "source": [
    "for i in range(0,PopSize):\n",
    "    print(Population[i].Chromosome)"
   ]
  },
  {
   "cell_type": "code",
   "execution_count": null,
   "metadata": {
    "collapsed": true
   },
   "outputs": [],
   "source": [
    "    if (dp1c1+dp2c2)<=(dp1c2+dp2c1):\n",
    "#----------------------------------\n",
    "        if  fitness_child1<=fitness_parent1:\n",
    "            Population[index1]=child1;\n",
    "            Fitness[0,index1]=fitness_child1 \n",
    "            S=S+1\n",
    "        #else:\n",
    "            # Do nothing\n",
    "#----------------------------------           \n",
    "        if  fitness_child2<=fitness_parent2:\n",
    "            Population[index2]=child2;\n",
    "            Fitness[0,index2]=fitness_child2 \n",
    "            S=S+1\n",
    "        #else:\n",
    "            # Do nothing\n",
    "            \n",
    "    \n",
    "    \n",
    "    if (dp1c1+dp2c2)>(dp1c2+dp2c1):\n",
    "#----------------------------------   \n",
    "        if  fitness_child1<=fitness_parent2:\n",
    "            Population[index2]=child1;\n",
    "            Fitness[0,index2]=fitness_child1\n",
    "            S=S+1\n",
    "        #else:\n",
    "            # Do nothing\n",
    "            \n",
    "#----------------------------------          \n",
    "        if  fitness_child2<=fitness_parent1:\n",
    "            Population[index1]=child2;\n",
    "            Fitness[0,index1]=fitness_child2\n",
    "            S=S+1\n",
    "    \n",
    "        #else:"
   ]
  }
 ],
 "metadata": {
  "kernelspec": {
   "display_name": "Python 3",
   "language": "python",
   "name": "python3"
  },
  "language_info": {
   "codemirror_mode": {
    "name": "ipython",
    "version": 3
   },
   "file_extension": ".py",
   "mimetype": "text/x-python",
   "name": "python",
   "nbconvert_exporter": "python",
   "pygments_lexer": "ipython3",
   "version": "3.5.1"
  },
  "latex_envs": {
   "bibliofile": "biblio.bib",
   "cite_by": "apalike",
   "current_citInitial": 1,
   "eqLabelWithNumbers": true,
   "eqNumInitial": 0
  }
 },
 "nbformat": 4,
 "nbformat_minor": 0
}
